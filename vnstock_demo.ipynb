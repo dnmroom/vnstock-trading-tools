{
  "cells": [
    {
      "cell_type": "markdown",
      "metadata": {},
      "source": [
        "# vnstock trading tools demo\n",
        "Mặc định phân tích VNINDEX 1 năm gần nhất. Có thể thay `symbol`, `start_date`, `end_date`."
      ]
    },
    {
      "cell_type": "code",
      "execution_count": null,
      "metadata": {},
      "outputs": [],
      "source": [
        "from datetime import datetime, timedelta\n",
        "import pandas as pd, numpy as np, matplotlib.pyplot as plt\n",
        "from vnstock import stock_historical_data\n",
        "\n",
        "symbol = 'VNINDEX'\n",
        "end_date = datetime.today().strftime('%Y-%m-%d')\n",
        "start_date = (datetime.today() - timedelta(days=365)).strftime('%Y-%m-%d')\n",
        "print(f'Đang tải {symbol} từ {start_date} đến {end_date}...')\n",
        "df = stock_historical_data(symbol, start_date, end_date, resolution='1D')\n",
        "df['time'] = pd.to_datetime(df['time'])\n",
        "df = df.set_index('time')\n",
        "df.head()"
      ]
    },
    {
      "cell_type": "code",
      "execution_count": null,
      "metadata": {},
      "outputs": [],
      "source": [
        "def ema(s, span): return s.ewm(span=span, adjust=False).mean()\n",
        "def rsi(s, length=14):\n",
        "    delta = s.diff()\n",
        "    up, down = delta.clip(lower=0), -delta.clip(upper=0)\n",
        "    ma_up = up.ewm(alpha=1/length, adjust=False).mean()\n",
        "    ma_down = down.ewm(alpha=1/length, adjust=False).mean()\n",
        "    rs = ma_up / ma_down\n",
        "    return 100 - (100 / (1 + rs))\n",
        "\n",
        "df['EMA9'] = ema(df['close'], 9)\n",
        "df['EMA26'] = ema(df['close'], 26)\n",
        "df['EMA100'] = ema(df['close'], 100)\n",
        "df['EMA200'] = ema(df['close'], 200)\n",
        "df['RSI9'] = rsi(df['close'], 9)\n",
        "df['RSI45'] = rsi(df['close'], 45)\n",
        "df.tail()"
      ]
    },
    {
      "cell_type": "code",
      "execution_count": null,
      "metadata": {},
      "outputs": [],
      "source": [
        "# Đánh dấu giao cắt EMA\n",
        "df['cross_up'] = (df['EMA9'] > df['EMA26']) & (df['EMA9'].shift(1) <= df['EMA26'].shift(1))\n",
        "df['cross_dn'] = (df['EMA9'] < df['EMA26']) & (df['EMA9'].shift(1) >= df['EMA26'].shift(1))\n",
        "\n",
        "# Plot\n",
        "plt.rcParams.update({'figure.figsize': (14,10), 'font.size': 12})\n",
        "fig, axes = plt.subplots(3, 1, sharex=True, gridspec_kw={'height_ratios': [3,1,1]})\n",
        "axes[0].plot(df.index, df['close'], color='black', label='Close')\n",
        "axes[0].plot(df.index, df['EMA9'], color='blue', label='EMA9')\n",
        "axes[0].plot(df.index, df['EMA26'], color='orange', label='EMA26')\n",
        "axes[0].plot(df.index, df['EMA100'], color='purple', label='EMA100')\n",
        "axes[0].plot(df.index, df['EMA200'], color='red', label='EMA200')\n",
        "axes[0].scatter(df.index[df['cross_up']], df['close'][df['cross_up']], color='green', s=80, marker='^')\n",
        "axes[0].scatter(df.index[df['cross_dn']], df['close'][df['cross_dn']], color='red', s=80, marker='v')\n",
        "axes[0].legend(); axes[0].set_title(symbol)\n",
        "\n",
        "axes[1].bar(df.index, df['volume'], color='gray')\n",
        "axes[1].set_ylabel('Volume')\n",
        "\n",
        "axes[2].plot(df.index, df['RSI9'], label='RSI9', color='blue')\n",
        "axes[2].plot(df.index, df['RSI45'], label='RSI45', color='green')\n",
        "axes[2].axhline(70, color='red', ls='--'); axes[2].axhline(30, color='green', ls='--')\n",
        "axes[2].legend(); axes[2].set_ylabel('RSI')\n",
        "\n",
        "plt.tight_layout(); plt.show()"
      ]
    }
  ],
  "metadata": {
    "kernelspec": {
      "display_name": "Python 3",
      "language": "python",
      "name": "python3"
    }
  },
  "nbformat": 4,
  "nbformat_minor": 5
}